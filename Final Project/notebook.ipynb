{
  "cells": [
    {
      "cell_type": "markdown",
      "metadata": {
        "id": "3yunPtGLlbG7"
      },
      "source": [
        "# Ex - GroupBy\n",
        "\n",
        "Check out [Alcohol Consumption Exercises Video Tutorial](https://youtu.be/az67CMdmS6s) to watch a data scientist go through the exercises"
      ]
    },
    {
      "cell_type": "markdown",
      "metadata": {
        "id": "KvsfU5KOlbG9"
      },
      "source": [
        "### Introduction:\n",
        "\n",
        "GroupBy can be summarized as Split-Apply-Combine.\n",
        "\n",
        "Special thanks to: https://github.com/justmarkham for sharing the dataset and materials.\n",
        "\n",
        "Check out this [Diagram](http://i.imgur.com/yjNkiwL.png)  \n",
        "### Step 1. Import the necessary libraries"
      ]
    },
    {
      "cell_type": "code",
      "execution_count": null,
      "metadata": {
        "id": "tP2mkM5albG-"
      },
      "outputs": [],
      "source": []
    },
    {
      "cell_type": "markdown",
      "metadata": {
        "id": "FyZVXPnLlbG_"
      },
      "source": [
        "### Step 2. Import the dataset from this [address](https://raw.githubusercontent.com/justmarkham/DAT8/master/data/drinks.csv). "
      ]
    },
    {
      "cell_type": "markdown",
      "metadata": {
        "id": "4O4-F3MflbG_"
      },
      "source": [
        "### Step 3. Assign it to a variable called drinks."
      ]
    },
    {
      "cell_type": "code",
      "source": [],
      "metadata": {
        "id": "qsH4Y3-Fjy4a"
      },
      "execution_count": null,
      "outputs": []
    },
    {
      "cell_type": "markdown",
      "metadata": {
        "id": "QvxXsxThlbHA"
      },
      "source": [
        "### Step 4. Print beer servings average per continent\n",
        "\n",
        "---\n",
        "\n"
      ]
    },
    {
      "cell_type": "code",
      "execution_count": null,
      "metadata": {
        "id": "pfA4SOIAlbHA"
      },
      "outputs": [],
      "source": []
    },
    {
      "cell_type": "markdown",
      "metadata": {
        "id": "Ht-j8gILlbHB"
      },
      "source": [
        "### Step 5. For each continent print the statistics for wine consumption."
      ]
    },
    {
      "cell_type": "code",
      "execution_count": null,
      "metadata": {
        "id": "V8I6RgKMlbHB"
      },
      "outputs": [],
      "source": []
    },
    {
      "cell_type": "markdown",
      "source": [
        "###Step 6. Print all countries with wine servings bigger than the median wine servings."
      ],
      "metadata": {
        "id": "ITQNZmJOl5bl"
      }
    },
    {
      "cell_type": "code",
      "source": [],
      "metadata": {
        "id": "fvkLnpOUmF1t"
      },
      "execution_count": null,
      "outputs": []
    },
    {
      "cell_type": "markdown",
      "source": [
        "###Step 7. For each continent, print the country with the maximal beer consumption."
      ],
      "metadata": {
        "id": "QaHQUshWmWAu"
      }
    },
    {
      "cell_type": "code",
      "source": [],
      "metadata": {
        "id": "3mjAE8lJmWU-"
      },
      "execution_count": null,
      "outputs": []
    },
    {
      "cell_type": "markdown",
      "source": [
        "###Step 8. We want to define an alcohol consumption rank. Create a new column created 'stars' such that for each country, if the total_litres_of_pure_alcohol is smaller than the 0.25 precentile of the column, it gets 4 stars. If it's between 0.25 - 0.5 precentile, it will get 3 stars, 0.5 - 0.75 is 2 stars and 0.75 - 0.1 is 1 star. Those values will be set in the new column."
      ],
      "metadata": {
        "id": "ycKsokynmi7c"
      }
    },
    {
      "cell_type": "code",
      "source": [],
      "metadata": {
        "id": "7ICZ-Mp7nItr"
      },
      "execution_count": null,
      "outputs": []
    },
    {
      "cell_type": "markdown",
      "source": [
        "### Step 9. For shaming purposes, change the value of the column stars such that the country with the biggest alcohol consumption will have the value \"WORST!\" in it."
      ],
      "metadata": {
        "id": "R-jH9bSgnKGk"
      }
    },
    {
      "cell_type": "code",
      "source": [],
      "metadata": {
        "id": "lN9ZuIISnseV"
      },
      "execution_count": null,
      "outputs": []
    },
    {
      "cell_type": "markdown",
      "source": [
        "### Step 10. Perform the same as question 8 but for the continents total_litres_of_pure_alcohol mean"
      ],
      "metadata": {
        "id": "aaoEVhJXntEi"
      }
    },
    {
      "cell_type": "code",
      "source": [],
      "metadata": {
        "id": "t_fUs1B7ogSy"
      },
      "execution_count": null,
      "outputs": []
    },
    {
      "cell_type": "markdown",
      "source": [
        "### Step 11. Perform the same as question 8 but for the continents total_litres_of_pure_alcohol mean"
      ],
      "metadata": {
        "id": "FWJKx4cPohDJ"
      }
    }
  ],
  "metadata": {
    "kernelspec": {
      "display_name": "Python 3",
      "language": "python",
      "name": "python3"
    },
    "language_info": {
      "codemirror_mode": {
        "name": "ipython",
        "version": 3
      },
      "file_extension": ".py",
      "mimetype": "text/x-python",
      "name": "python",
      "nbconvert_exporter": "python",
      "pygments_lexer": "ipython3",
      "version": "3.7.3"
    },
    "toc": {
      "base_numbering": 1,
      "nav_menu": {},
      "number_sections": true,
      "sideBar": true,
      "skip_h1_title": false,
      "title_cell": "Table of Contents",
      "title_sidebar": "Contents",
      "toc_cell": false,
      "toc_position": {},
      "toc_section_display": true,
      "toc_window_display": false
    },
    "colab": {
      "provenance": []
    }
  },
  "nbformat": 4,
  "nbformat_minor": 0
}